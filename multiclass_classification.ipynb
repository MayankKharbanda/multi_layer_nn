{
 "cells": [
  {
   "cell_type": "markdown",
   "metadata": {
    "colab_type": "text",
    "id": "fKKcm2WxTL_R"
   },
   "source": [
    "# Package imports"
   ]
  },
  {
   "cell_type": "code",
   "execution_count": 1,
   "metadata": {
    "colab": {},
    "colab_type": "code",
    "id": "mJDR_lRUTL_Z"
   },
   "outputs": [],
   "source": [
    "import pandas as pd\n",
    "import numpy as np\n",
    "import sklearn\n",
    "from sklearn.datasets import load_breast_cancer\n",
    "import matplotlib.pyplot as plt\n",
    "\n",
    "import L_layer_nn as lnn"
   ]
  },
  {
   "cell_type": "markdown",
   "metadata": {
    "colab_type": "text",
    "id": "yy0UZCnOTL_n"
   },
   "source": [
    "# Dataset Import and Manipulation"
   ]
  },
  {
   "cell_type": "markdown",
   "metadata": {},
   "source": [
    "Dataset chosen for analysis is [covtype](https://archive.ics.uci.edu/ml/datasets/covertype) dataset which defines 7 types of forest cover types each labeled a number from the set {1,2,3,4,5,6,7}.\n",
    "\n",
    "The dataset contains _581,012_ observations from which: \n",
    "- first _11,340_ records used for training data subset\n",
    "- next _3,780_ records used for validation data subset\n",
    "- last _565,892_ records used for testing data subset\n",
    "\n",
    "The dataset has 12 measures, but 54 columns of data (10 quantitative variables, 4 binary wilderness areas and 40 binary soil type variables)\n",
    "\n",
    "|Name                                     |Data Type    |Measurement                       |Description|\n",
    "|---|---|---|---|\n",
    "|Elevation|quantitative|meters|Elevation in meters|\n",
    "|Aspect|quantitative|azimuth|Aspect in degrees azimuth|\n",
    "|Slope|quantitative|degrees|Slope in degrees|\n",
    "|Horizontal_Distance_To_Hydrology        |quantitative    |meters                       |Horz Dist to nearest surface water features|\n",
    "|Vertical_Distance_To_Hydrology          |quantitative    |meters                       |Vert Dist to nearest surface water features|\n",
    "|Horizontal_Distance_To_Roadways         |quantitative    |meters                       |Horz Dist to nearest roadway|\n",
    "|Hillshade_9am                           |quantitative    |0 to 255 index               |Hillshade index at 9am, summer solstice|\n",
    "|Hillshade_Noon                          |quantitative    |0 to 255 index               |Hillshade index at noon, summer soltice|\n",
    "|Hillshade_3pm                           |quantitative    |0 to 255 index               |Hillshade index at 3pm, summer solstice|\n",
    "|Horizontal_Distance_To_Fire_Points      |quantitative    |meters                       |Horz Dist to nearest wildfire ignition points|\n",
    "|Wilderness_Area (4 binary columns)      |qualitative     |0 (absence) or 1 (presence)  |Wilderness area designation|\n",
    "|Soil_Type (40 binary columns)           |qualitative     |0 (absence) or 1 (presence)  |Soil Type designation|\n",
    "|Cover_Type (7 types)                    |integer         |1 to 7                       |Forest Cover Type designation|"
   ]
  },
  {
   "cell_type": "markdown",
   "metadata": {},
   "source": [
    "### Importing Dataset\n",
    "Import the dataset from the file `covtype.data`.\n",
    "\n",
    "If you don't have the dataset run the following commands and also replace the `pd.read_csv` command\n",
    "\n",
    ">```python\n",
    "!wget archive.ics.uci.edu/ml/machine-learning-databases/covtype/covtype.data.gz\n",
    "dataset = pd.read_csv(\"covtype.data.gz\", compression = \"gzip\")\n",
    "```"
   ]
  },
  {
   "cell_type": "code",
   "execution_count": 2,
   "metadata": {},
   "outputs": [],
   "source": [
    "from sklearn.datasets import fetch_covtype\n",
    "dataset = pd.read_csv(\"covtype.data\")"
   ]
  },
  {
   "cell_type": "code",
   "execution_count": 3,
   "metadata": {},
   "outputs": [
    {
     "data": {
      "text/html": [
       "<div>\n",
       "<style scoped>\n",
       "    .dataframe tbody tr th:only-of-type {\n",
       "        vertical-align: middle;\n",
       "    }\n",
       "\n",
       "    .dataframe tbody tr th {\n",
       "        vertical-align: top;\n",
       "    }\n",
       "\n",
       "    .dataframe thead th {\n",
       "        text-align: right;\n",
       "    }\n",
       "</style>\n",
       "<table border=\"1\" class=\"dataframe\">\n",
       "  <thead>\n",
       "    <tr style=\"text-align: right;\">\n",
       "      <th></th>\n",
       "      <th>2596</th>\n",
       "      <th>51</th>\n",
       "      <th>3</th>\n",
       "      <th>258</th>\n",
       "      <th>0</th>\n",
       "      <th>510</th>\n",
       "      <th>221</th>\n",
       "      <th>232</th>\n",
       "      <th>148</th>\n",
       "      <th>6279</th>\n",
       "      <th>...</th>\n",
       "      <th>0.34</th>\n",
       "      <th>0.35</th>\n",
       "      <th>0.36</th>\n",
       "      <th>0.37</th>\n",
       "      <th>0.38</th>\n",
       "      <th>0.39</th>\n",
       "      <th>0.40</th>\n",
       "      <th>0.41</th>\n",
       "      <th>0.42</th>\n",
       "      <th>5</th>\n",
       "    </tr>\n",
       "  </thead>\n",
       "  <tbody>\n",
       "    <tr>\n",
       "      <th>0</th>\n",
       "      <td>2590</td>\n",
       "      <td>56</td>\n",
       "      <td>2</td>\n",
       "      <td>212</td>\n",
       "      <td>-6</td>\n",
       "      <td>390</td>\n",
       "      <td>220</td>\n",
       "      <td>235</td>\n",
       "      <td>151</td>\n",
       "      <td>6225</td>\n",
       "      <td>...</td>\n",
       "      <td>0</td>\n",
       "      <td>0</td>\n",
       "      <td>0</td>\n",
       "      <td>0</td>\n",
       "      <td>0</td>\n",
       "      <td>0</td>\n",
       "      <td>0</td>\n",
       "      <td>0</td>\n",
       "      <td>0</td>\n",
       "      <td>5</td>\n",
       "    </tr>\n",
       "    <tr>\n",
       "      <th>1</th>\n",
       "      <td>2804</td>\n",
       "      <td>139</td>\n",
       "      <td>9</td>\n",
       "      <td>268</td>\n",
       "      <td>65</td>\n",
       "      <td>3180</td>\n",
       "      <td>234</td>\n",
       "      <td>238</td>\n",
       "      <td>135</td>\n",
       "      <td>6121</td>\n",
       "      <td>...</td>\n",
       "      <td>0</td>\n",
       "      <td>0</td>\n",
       "      <td>0</td>\n",
       "      <td>0</td>\n",
       "      <td>0</td>\n",
       "      <td>0</td>\n",
       "      <td>0</td>\n",
       "      <td>0</td>\n",
       "      <td>0</td>\n",
       "      <td>2</td>\n",
       "    </tr>\n",
       "    <tr>\n",
       "      <th>2</th>\n",
       "      <td>2785</td>\n",
       "      <td>155</td>\n",
       "      <td>18</td>\n",
       "      <td>242</td>\n",
       "      <td>118</td>\n",
       "      <td>3090</td>\n",
       "      <td>238</td>\n",
       "      <td>238</td>\n",
       "      <td>122</td>\n",
       "      <td>6211</td>\n",
       "      <td>...</td>\n",
       "      <td>0</td>\n",
       "      <td>0</td>\n",
       "      <td>0</td>\n",
       "      <td>0</td>\n",
       "      <td>0</td>\n",
       "      <td>0</td>\n",
       "      <td>0</td>\n",
       "      <td>0</td>\n",
       "      <td>0</td>\n",
       "      <td>2</td>\n",
       "    </tr>\n",
       "    <tr>\n",
       "      <th>3</th>\n",
       "      <td>2595</td>\n",
       "      <td>45</td>\n",
       "      <td>2</td>\n",
       "      <td>153</td>\n",
       "      <td>-1</td>\n",
       "      <td>391</td>\n",
       "      <td>220</td>\n",
       "      <td>234</td>\n",
       "      <td>150</td>\n",
       "      <td>6172</td>\n",
       "      <td>...</td>\n",
       "      <td>0</td>\n",
       "      <td>0</td>\n",
       "      <td>0</td>\n",
       "      <td>0</td>\n",
       "      <td>0</td>\n",
       "      <td>0</td>\n",
       "      <td>0</td>\n",
       "      <td>0</td>\n",
       "      <td>0</td>\n",
       "      <td>5</td>\n",
       "    </tr>\n",
       "    <tr>\n",
       "      <th>4</th>\n",
       "      <td>2579</td>\n",
       "      <td>132</td>\n",
       "      <td>6</td>\n",
       "      <td>300</td>\n",
       "      <td>-15</td>\n",
       "      <td>67</td>\n",
       "      <td>230</td>\n",
       "      <td>237</td>\n",
       "      <td>140</td>\n",
       "      <td>6031</td>\n",
       "      <td>...</td>\n",
       "      <td>0</td>\n",
       "      <td>0</td>\n",
       "      <td>0</td>\n",
       "      <td>0</td>\n",
       "      <td>0</td>\n",
       "      <td>0</td>\n",
       "      <td>0</td>\n",
       "      <td>0</td>\n",
       "      <td>0</td>\n",
       "      <td>2</td>\n",
       "    </tr>\n",
       "  </tbody>\n",
       "</table>\n",
       "<p>5 rows × 55 columns</p>\n",
       "</div>"
      ],
      "text/plain": [
       "   2596   51   3  258    0   510  221  232  148  6279 ...  0.34  0.35  0.36  \\\n",
       "0  2590   56   2  212   -6   390  220  235  151  6225 ...     0     0     0   \n",
       "1  2804  139   9  268   65  3180  234  238  135  6121 ...     0     0     0   \n",
       "2  2785  155  18  242  118  3090  238  238  122  6211 ...     0     0     0   \n",
       "3  2595   45   2  153   -1   391  220  234  150  6172 ...     0     0     0   \n",
       "4  2579  132   6  300  -15    67  230  237  140  6031 ...     0     0     0   \n",
       "\n",
       "   0.37  0.38  0.39  0.40  0.41  0.42  5  \n",
       "0     0     0     0     0     0     0  5  \n",
       "1     0     0     0     0     0     0  2  \n",
       "2     0     0     0     0     0     0  2  \n",
       "3     0     0     0     0     0     0  5  \n",
       "4     0     0     0     0     0     0  2  \n",
       "\n",
       "[5 rows x 55 columns]"
      ]
     },
     "execution_count": 3,
     "metadata": {},
     "output_type": "execute_result"
    }
   ],
   "source": [
    "dataset.head()"
   ]
  },
  {
   "cell_type": "markdown",
   "metadata": {},
   "source": [
    "### Extract the labels from the dataset\n",
    "\n",
    "There are 7 unique values of Cover_type in the dataset which determines the forest cover type.\n",
    "\n",
    "It is the last column in the dataset with column name `'5'`"
   ]
  },
  {
   "cell_type": "code",
   "execution_count": 4,
   "metadata": {},
   "outputs": [
    {
     "data": {
      "text/plain": [
       "4      2747\n",
       "5      9492\n",
       "6     17367\n",
       "7     20510\n",
       "3     35754\n",
       "1    211840\n",
       "2    283301\n",
       "Name: 5, dtype: int64"
      ]
     },
     "execution_count": 4,
     "metadata": {},
     "output_type": "execute_result"
    }
   ],
   "source": [
    "# Unique labels by frequency\n",
    "dataset['5'].value_counts().sort_values()"
   ]
  },
  {
   "cell_type": "code",
   "execution_count": 5,
   "metadata": {},
   "outputs": [],
   "source": [
    "y = dataset.pop('5')"
   ]
  },
  {
   "cell_type": "markdown",
   "metadata": {},
   "source": [
    "### Normalize the Dataset\n",
    "\n",
    "The dataset needs to be normalized before feeding it into any machine learning algorithm.\n",
    "\n",
    ">The normalization method used is __min-max normalization__. `MinMaxScaler` function is used from \n",
    "the sklearn library.\n",
    "\n",
    "It automatically handles the case of _divide by zero_ when then min and the\n",
    "max in any data-column are the same."
   ]
  },
  {
   "cell_type": "code",
   "execution_count": 6,
   "metadata": {},
   "outputs": [],
   "source": [
    "from sklearn.preprocessing import MinMaxScaler\n",
    "scaler = MinMaxScaler()\n",
    "dataset = pd.DataFrame(scaler.fit_transform(dataset))"
   ]
  },
  {
   "cell_type": "code",
   "execution_count": 7,
   "metadata": {},
   "outputs": [
    {
     "data": {
      "text/html": [
       "<div>\n",
       "<style scoped>\n",
       "    .dataframe tbody tr th:only-of-type {\n",
       "        vertical-align: middle;\n",
       "    }\n",
       "\n",
       "    .dataframe tbody tr th {\n",
       "        vertical-align: top;\n",
       "    }\n",
       "\n",
       "    .dataframe thead th {\n",
       "        text-align: right;\n",
       "    }\n",
       "</style>\n",
       "<table border=\"1\" class=\"dataframe\">\n",
       "  <thead>\n",
       "    <tr style=\"text-align: right;\">\n",
       "      <th></th>\n",
       "      <th>0</th>\n",
       "      <th>1</th>\n",
       "      <th>2</th>\n",
       "      <th>3</th>\n",
       "      <th>4</th>\n",
       "      <th>5</th>\n",
       "      <th>6</th>\n",
       "      <th>7</th>\n",
       "      <th>8</th>\n",
       "      <th>9</th>\n",
       "      <th>...</th>\n",
       "      <th>44</th>\n",
       "      <th>45</th>\n",
       "      <th>46</th>\n",
       "      <th>47</th>\n",
       "      <th>48</th>\n",
       "      <th>49</th>\n",
       "      <th>50</th>\n",
       "      <th>51</th>\n",
       "      <th>52</th>\n",
       "      <th>53</th>\n",
       "    </tr>\n",
       "  </thead>\n",
       "  <tbody>\n",
       "    <tr>\n",
       "      <th>0</th>\n",
       "      <td>0.365683</td>\n",
       "      <td>0.155556</td>\n",
       "      <td>0.030303</td>\n",
       "      <td>0.151754</td>\n",
       "      <td>0.215762</td>\n",
       "      <td>0.054798</td>\n",
       "      <td>0.866142</td>\n",
       "      <td>0.925197</td>\n",
       "      <td>0.594488</td>\n",
       "      <td>0.867838</td>\n",
       "      <td>...</td>\n",
       "      <td>0.0</td>\n",
       "      <td>0.0</td>\n",
       "      <td>0.0</td>\n",
       "      <td>0.0</td>\n",
       "      <td>0.0</td>\n",
       "      <td>0.0</td>\n",
       "      <td>0.0</td>\n",
       "      <td>0.0</td>\n",
       "      <td>0.0</td>\n",
       "      <td>0.0</td>\n",
       "    </tr>\n",
       "    <tr>\n",
       "      <th>1</th>\n",
       "      <td>0.472736</td>\n",
       "      <td>0.386111</td>\n",
       "      <td>0.136364</td>\n",
       "      <td>0.191840</td>\n",
       "      <td>0.307494</td>\n",
       "      <td>0.446817</td>\n",
       "      <td>0.921260</td>\n",
       "      <td>0.937008</td>\n",
       "      <td>0.531496</td>\n",
       "      <td>0.853339</td>\n",
       "      <td>...</td>\n",
       "      <td>0.0</td>\n",
       "      <td>0.0</td>\n",
       "      <td>0.0</td>\n",
       "      <td>0.0</td>\n",
       "      <td>0.0</td>\n",
       "      <td>0.0</td>\n",
       "      <td>0.0</td>\n",
       "      <td>0.0</td>\n",
       "      <td>0.0</td>\n",
       "      <td>0.0</td>\n",
       "    </tr>\n",
       "    <tr>\n",
       "      <th>2</th>\n",
       "      <td>0.463232</td>\n",
       "      <td>0.430556</td>\n",
       "      <td>0.272727</td>\n",
       "      <td>0.173228</td>\n",
       "      <td>0.375969</td>\n",
       "      <td>0.434172</td>\n",
       "      <td>0.937008</td>\n",
       "      <td>0.937008</td>\n",
       "      <td>0.480315</td>\n",
       "      <td>0.865886</td>\n",
       "      <td>...</td>\n",
       "      <td>0.0</td>\n",
       "      <td>0.0</td>\n",
       "      <td>0.0</td>\n",
       "      <td>0.0</td>\n",
       "      <td>0.0</td>\n",
       "      <td>0.0</td>\n",
       "      <td>0.0</td>\n",
       "      <td>0.0</td>\n",
       "      <td>0.0</td>\n",
       "      <td>0.0</td>\n",
       "    </tr>\n",
       "    <tr>\n",
       "      <th>3</th>\n",
       "      <td>0.368184</td>\n",
       "      <td>0.125000</td>\n",
       "      <td>0.030303</td>\n",
       "      <td>0.109520</td>\n",
       "      <td>0.222222</td>\n",
       "      <td>0.054939</td>\n",
       "      <td>0.866142</td>\n",
       "      <td>0.921260</td>\n",
       "      <td>0.590551</td>\n",
       "      <td>0.860449</td>\n",
       "      <td>...</td>\n",
       "      <td>0.0</td>\n",
       "      <td>0.0</td>\n",
       "      <td>0.0</td>\n",
       "      <td>0.0</td>\n",
       "      <td>0.0</td>\n",
       "      <td>0.0</td>\n",
       "      <td>0.0</td>\n",
       "      <td>0.0</td>\n",
       "      <td>0.0</td>\n",
       "      <td>0.0</td>\n",
       "    </tr>\n",
       "    <tr>\n",
       "      <th>4</th>\n",
       "      <td>0.360180</td>\n",
       "      <td>0.366667</td>\n",
       "      <td>0.090909</td>\n",
       "      <td>0.214746</td>\n",
       "      <td>0.204134</td>\n",
       "      <td>0.009414</td>\n",
       "      <td>0.905512</td>\n",
       "      <td>0.933071</td>\n",
       "      <td>0.551181</td>\n",
       "      <td>0.840792</td>\n",
       "      <td>...</td>\n",
       "      <td>0.0</td>\n",
       "      <td>0.0</td>\n",
       "      <td>0.0</td>\n",
       "      <td>0.0</td>\n",
       "      <td>0.0</td>\n",
       "      <td>0.0</td>\n",
       "      <td>0.0</td>\n",
       "      <td>0.0</td>\n",
       "      <td>0.0</td>\n",
       "      <td>0.0</td>\n",
       "    </tr>\n",
       "  </tbody>\n",
       "</table>\n",
       "<p>5 rows × 54 columns</p>\n",
       "</div>"
      ],
      "text/plain": [
       "         0         1         2         3         4         5         6   \\\n",
       "0  0.365683  0.155556  0.030303  0.151754  0.215762  0.054798  0.866142   \n",
       "1  0.472736  0.386111  0.136364  0.191840  0.307494  0.446817  0.921260   \n",
       "2  0.463232  0.430556  0.272727  0.173228  0.375969  0.434172  0.937008   \n",
       "3  0.368184  0.125000  0.030303  0.109520  0.222222  0.054939  0.866142   \n",
       "4  0.360180  0.366667  0.090909  0.214746  0.204134  0.009414  0.905512   \n",
       "\n",
       "         7         8         9  ...    44   45   46   47   48   49   50   51  \\\n",
       "0  0.925197  0.594488  0.867838 ...   0.0  0.0  0.0  0.0  0.0  0.0  0.0  0.0   \n",
       "1  0.937008  0.531496  0.853339 ...   0.0  0.0  0.0  0.0  0.0  0.0  0.0  0.0   \n",
       "2  0.937008  0.480315  0.865886 ...   0.0  0.0  0.0  0.0  0.0  0.0  0.0  0.0   \n",
       "3  0.921260  0.590551  0.860449 ...   0.0  0.0  0.0  0.0  0.0  0.0  0.0  0.0   \n",
       "4  0.933071  0.551181  0.840792 ...   0.0  0.0  0.0  0.0  0.0  0.0  0.0  0.0   \n",
       "\n",
       "    52   53  \n",
       "0  0.0  0.0  \n",
       "1  0.0  0.0  \n",
       "2  0.0  0.0  \n",
       "3  0.0  0.0  \n",
       "4  0.0  0.0  \n",
       "\n",
       "[5 rows x 54 columns]"
      ]
     },
     "execution_count": 7,
     "metadata": {},
     "output_type": "execute_result"
    }
   ],
   "source": [
    "dataset.head()"
   ]
  },
  {
   "cell_type": "markdown",
   "metadata": {},
   "source": [
    "### Train and Test Split\n",
    "\n",
    "The dataset contains 581,012 observations from which:\n",
    "\n",
    "+ first 11,340 records used for training data subset\n",
    "+ next 3,780 records used for testing data subset"
   ]
  },
  {
   "cell_type": "code",
   "execution_count": 8,
   "metadata": {},
   "outputs": [
    {
     "name": "stdout",
     "output_type": "stream",
     "text": [
      "The shape of X_train is: (11340, 54)\n",
      "The shape of y_train is: (11340,)\n",
      "The shape of X_train is: (3780, 54)\n",
      "The shape of y_train is: (3780,)\n"
     ]
    }
   ],
   "source": [
    "X_train = dataset.iloc[0:11340,:]\n",
    "y_train = y.iloc[0:11340]\n",
    "X_test = dataset.iloc[11341:15121,:]\n",
    "y_test = y.iloc[11341:15121]\n",
    "\n",
    "print ('The shape of X_train is: ' + str(X_train.shape))\n",
    "print ('The shape of y_train is: ' + str(y_train.shape))\n",
    "print ('The shape of X_train is: ' + str(X_test.shape))\n",
    "print ('The shape of y_train is: ' + str(y_test.shape))"
   ]
  },
  {
   "cell_type": "markdown",
   "metadata": {},
   "source": [
    "# Classification using Logistic Regression"
   ]
  },
  {
   "cell_type": "markdown",
   "metadata": {},
   "source": [
    "`LogisticRegression` in sklearn has by default the value for `multi_class` attribute set to `ovr`.\n",
    "\n",
    "This just means that the classifier generated uses by Defalut One-vs-Rest logistic regression (OVR) in which <br>\n",
    "a separate model is trained for each class predicted whether an observation is that class or not (thus making it <br>\n",
    "a binary classification problem). It assumes that each classification problem (e.g. class 0 or not) is independent."
   ]
  },
  {
   "cell_type": "code",
   "execution_count": 9,
   "metadata": {},
   "outputs": [
    {
     "name": "stdout",
     "output_type": "stream",
     "text": [
      "LogisticRegression(C=1.0, class_weight=None, dual=False, fit_intercept=True,\n",
      "          intercept_scaling=1, max_iter=100, multi_class='ovr', n_jobs=1,\n",
      "          penalty='l2', random_state=None, solver='liblinear', tol=0.0001,\n",
      "          verbose=0, warm_start=False)\n"
     ]
    }
   ],
   "source": [
    "from sklearn.linear_model import LogisticRegression\n",
    "\n",
    "# Fit the classifier on training data\n",
    "classifier = LogisticRegression().fit(X_train, y_train)\n",
    "\n",
    "print(classifier)"
   ]
  },
  {
   "cell_type": "code",
   "execution_count": 10,
   "metadata": {},
   "outputs": [
    {
     "name": "stdout",
     "output_type": "stream",
     "text": [
      "Accuracy on Train data = 66.37566137566138\n",
      "Accuracy on Test data = 67.4074074074074\n"
     ]
    }
   ],
   "source": [
    "# Calculate the accuracy on test data\n",
    "acc_lr_train = classifier.score(X_train, y_train)\n",
    "\n",
    "# Calculate the accuracy on test data\n",
    "acc_lr_test = classifier.score(X_test, y_test)\n",
    "\n",
    "print(f'Accuracy on Train data = {acc_lr_train * 100}')\n",
    "print(f'Accuracy on Test data = {acc_lr_test * 100}')"
   ]
  },
  {
   "cell_type": "code",
   "execution_count": 11,
   "metadata": {},
   "outputs": [
    {
     "data": {
      "image/png": "[encoded data removed]",
      "text/plain": [
       "<Figure size 432x288 with 2 Axes>"
      ]
     },
     "metadata": {},
     "output_type": "display_data"
    }
   ],
   "source": [
    "from sklearn.metrics import confusion_matrix \n",
    "\n",
    "lr_predictions = classifier.predict(X_test)\n",
    "\n",
    "cm = confusion_matrix(y_test, lr_predictions) \n",
    "\n",
    "plt.imshow(cm, cmap='Blues', interpolation='nearest')\n",
    "plt.colorbar()\n",
    "plt.grid(False)\n",
    "plt.ylabel('true')\n",
    "plt.xlabel('predicted');"
   ]
  },
  {
   "cell_type": "markdown",
   "metadata": {},
   "source": [
    "# Classification using Support Vector Machines"
   ]
  },
  {
   "cell_type": "code",
   "execution_count": 12,
   "metadata": {},
   "outputs": [
    {
     "name": "stdout",
     "output_type": "stream",
     "text": [
      "SVC(C=1, cache_size=200, class_weight=None, coef0=0.0,\n",
      "  decision_function_shape='ovr', degree=3, gamma='auto', kernel='linear',\n",
      "  max_iter=-1, probability=False, random_state=None, shrinking=True,\n",
      "  tol=0.001, verbose=False)\n"
     ]
    }
   ],
   "source": [
    "from sklearn.svm import SVC \n",
    "svm_model_linear = SVC(kernel = 'linear', C = 1).fit(X_train, y_train) \n",
    "\n",
    "print(svm_model_linear)"
   ]
  },
  {
   "cell_type": "code",
   "execution_count": 13,
   "metadata": {},
   "outputs": [
    {
     "name": "stdout",
     "output_type": "stream",
     "text": [
      "Accuracy on Train data = 69.94708994708995\n",
      "Accuracy on Test data = 71.26984126984127\n"
     ]
    }
   ],
   "source": [
    "# Calculate the accuracy on test data\n",
    "acc_lr_train = svm_model_linear.score(X_train, y_train)\n",
    "\n",
    "# Calculate the accuracy on test data\n",
    "acc_lr_test = svm_model_linear.score(X_test, y_test)\n",
    "\n",
    "print(f'Accuracy on Train data = {acc_lr_train * 100}')\n",
    "print(f'Accuracy on Test data = {acc_lr_test * 100}')"
   ]
  },
  {
   "cell_type": "code",
   "execution_count": 14,
   "metadata": {},
   "outputs": [
    {
     "data": {
      "image/png": "[encoded data removed]",
      "text/plain": [
       "<Figure size 432x288 with 2 Axes>"
      ]
     },
     "metadata": {},
     "output_type": "display_data"
    }
   ],
   "source": [
    "svm_predictions = classifier.predict(X_test)\n",
    "\n",
    "cm = confusion_matrix(y_test, svm_predictions) \n",
    "\n",
    "plt.imshow(cm, cmap='Blues', interpolation='nearest')\n",
    "plt.colorbar()\n",
    "plt.grid(False)\n",
    "plt.ylabel('true')\n",
    "plt.xlabel('predicted');"
   ]
  },
  {
   "cell_type": "markdown",
   "metadata": {},
   "source": [
    "## Analysis"
   ]
  },
  {
   "cell_type": "markdown",
   "metadata": {},
   "source": [
    "Accuracy scores from above two classifications show that our models have very high bias.<br>\n",
    "To rectify that what we can do is exploratory data analysis. While that is a good option,<br>\n",
    "it is a lengthy process and requires a fundamental understanding of the dataset.\n",
    "\n",
    "What we can do is use a deep neural network to analyze it further."
   ]
  },
  {
   "cell_type": "markdown",
   "metadata": {},
   "source": [
    "# 2-layer Neural Network"
   ]
  },
  {
   "cell_type": "markdown",
   "metadata": {},
   "source": [
    "## Reshape data for Neural Network"
   ]
  },
  {
   "cell_type": "code",
   "execution_count": 15,
   "metadata": {},
   "outputs": [
    {
     "name": "stdout",
     "output_type": "stream",
     "text": [
      "The shape of X_train is: (54, 11340)\n",
      "The shape of y_train is: (1, 11340)\n",
      "The shape of X_test is: (54, 3780)\n",
      "The shape of y_test is: (1, 3780)\n"
     ]
    }
   ],
   "source": [
    "X_train = X_train.values\n",
    "X_train = X_train.T\n",
    "X_test = X_test.values\n",
    "X_test = X_test.T\n",
    "\n",
    "y_train = y_train.values\n",
    "y_train = y_train.reshape(y_train.shape[0],1)\n",
    "y_train = y_train.T\n",
    "\n",
    "y_test = y_test.values\n",
    "y_test = y_test.reshape(y_test.shape[0],1)\n",
    "y_test = y_test.T\n",
    "\n",
    "print ('The shape of X_train is: ' + str(X_train.shape))\n",
    "print ('The shape of y_train is: ' + str(y_train.shape))\n",
    "print ('The shape of X_test is: ' + str(X_test.shape))\n",
    "print ('The shape of y_test is: ' + str(y_test.shape))"
   ]
  },
  {
   "cell_type": "markdown",
   "metadata": {},
   "source": [
    "## One-Hot Encoding the labels"
   ]
  },
  {
   "cell_type": "code",
   "execution_count": 16,
   "metadata": {},
   "outputs": [],
   "source": [
    "def oneHotEncoding(data, nb_classes):\n",
    "    #targets = np.array(data).reshape(-1)\n",
    "    data = data - 1\n",
    "    return np.eye(nb_classes)[data]"
   ]
  },
  {
   "cell_type": "code",
   "execution_count": 17,
   "metadata": {},
   "outputs": [
    {
     "name": "stdout",
     "output_type": "stream",
     "text": [
      "(7, 11340)\n",
      "(7, 3780)\n"
     ]
    }
   ],
   "source": [
    "temp = oneHotEncoding(y_train, 7)\n",
    "temp = temp[0, :, :]\n",
    "y_train_single = y_train\n",
    "y_train = temp.T\n",
    "print(y_train.shape)\n",
    "\n",
    "temp = oneHotEncoding(y_test, 7)\n",
    "temp = temp[0, :, :]\n",
    "y_test_single = y_test\n",
    "y_test = temp.T\n",
    "print(y_test.shape)"
   ]
  },
  {
   "cell_type": "markdown",
   "metadata": {
    "colab_type": "text",
    "id": "siiYK9pLTMDY"
   },
   "source": [
    "# Training"
   ]
  },
  {
   "cell_type": "code",
   "execution_count": 18,
   "metadata": {
    "colab": {
     "base_uri": "https://localhost:8080/",
     "height": 880
    },
    "colab_type": "code",
    "id": "3rFv4v0kTMDa",
    "outputId": "00989b67-275c-4bc1-8659-bdc5e2d531dc"
   },
   "outputs": [
    {
     "name": "stdout",
     "output_type": "stream",
     "text": [
      "Cost after iteration 100: 4.681843\n",
      "Cost after iteration 200: 1.806372\n",
      "Cost after iteration 300: 1.584562\n",
      "Cost after iteration 400: 1.560319\n",
      "Cost after iteration 500: 1.484558\n",
      "Cost after iteration 600: 1.388990\n",
      "Cost after iteration 700: 1.395138\n",
      "Cost after iteration 800: 1.337093\n",
      "Cost after iteration 900: 1.314223\n",
      "Cost after iteration 1000: 1.323225\n",
      "Cost after iteration 1100: 1.250309\n",
      "Cost after iteration 1200: 1.314965\n",
      "Cost after iteration 1300: 1.260756\n",
      "Cost after iteration 1400: 1.272822\n",
      "Cost after iteration 1500: 1.247831\n",
      "Cost after iteration 1600: 1.247774\n",
      "Cost after iteration 1700: 1.244352\n",
      "Cost after iteration 1800: 1.191837\n",
      "Cost after iteration 1900: 1.188592\n",
      "Cost after iteration 2000: 1.228667\n",
      "Cost after iteration 2100: 1.182293\n",
      "Cost after iteration 2200: 1.189142\n",
      "Cost after iteration 2300: 1.176286\n",
      "Cost after iteration 2400: 1.100950\n",
      "Cost after iteration 2500: 1.172504\n",
      "Cost after iteration 2600: 1.144521\n",
      "Cost after iteration 2700: 1.095018\n",
      "Cost after iteration 2800: 1.127667\n",
      "Cost after iteration 2900: 1.091935\n",
      "Cost after iteration 3000: 1.074326\n"
     ]
    },
    {
     "data": {
      "image/png": "[encoded data removed]",
      "text/plain": [
       "<Figure size 432x288 with 1 Axes>"
      ]
     },
     "metadata": {},
     "output_type": "display_data"
    }
   ],
   "source": [
    "#Dimensions of each layer in our network\n",
    "layer_dims = [X_train.shape[0],20,20,10,y_train.shape[0]]\n",
    "activation_functions = [\"relu\",\"relu\",\"relu\",\"sigmoid\"]\n",
    "alpha = 0.3\n",
    "parameters = lnn.L_layer_model(X_train, y_train, layer_dims, activation_functions, learning_rate = alpha, num_iterations = 3000, print_cost=True, print_plot =  True)"
   ]
  },
  {
   "cell_type": "markdown",
   "metadata": {
    "colab_type": "text",
    "id": "zw2gp34HTMDt"
   },
   "source": [
    "# Predictions and Accuracy"
   ]
  },
  {
   "cell_type": "code",
   "execution_count": 19,
   "metadata": {
    "colab": {
     "base_uri": "https://localhost:8080/",
     "height": 34
    },
    "colab_type": "code",
    "id": "5-V14UQhTMD6",
    "outputId": "24af213c-238d-42e9-c39c-6015659ef06c"
   },
   "outputs": [
    {
     "name": "stdout",
     "output_type": "stream",
     "text": [
      "Accuracy: 71.01%\n"
     ]
    }
   ],
   "source": [
    "activations = [\"relu\",\"relu\",\"relu\",\"sigmoid\"]\n",
    "predictions = lnn.predict(parameters, X_test, activations)\n",
    "match_bool = np.equal(predictions,y_test_single).astype('int')\n",
    "accuracy = float(np.count_nonzero(match_bool == 1)) / float(y_test_single.size) * 100\n",
    "print(f'Accuracy: {round(accuracy,2)}%')"
   ]
  },
  {
   "cell_type": "code",
   "execution_count": 20,
   "metadata": {
    "colab": {
     "base_uri": "https://localhost:8080/",
     "height": 34
    },
    "colab_type": "code",
    "id": "SYTxT7vH2emz",
    "outputId": "7f7855b0-afda-4f3c-a7d7-fdd24aa3910c"
   },
   "outputs": [
    {
     "name": "stderr",
     "output_type": "stream",
     "text": [
      "/home/chrx/Documents/DUCS/multi_layer_nn/L_layer_nn.py:251: RuntimeWarning: divide by zero encountered in true_divide\n",
      "  dAL = - (np.divide(Y, AL) - np.divide(1 - Y, 1 - AL))\n",
      "/home/chrx/Documents/DUCS/multi_layer_nn/L_layer_nn.py:251: RuntimeWarning: invalid value encountered in true_divide\n",
      "  dAL = - (np.divide(Y, AL) - np.divide(1 - Y, 1 - AL))\n",
      "/home/chrx/Documents/DUCS/multi_layer_nn/L_layer_nn.py:153: RuntimeWarning: invalid value encountered in log\n",
      "  cost =  (-1./m) * np.sum(np.multiply(np.log(AL+epsilon),Y) + np.multiply(np.log(1-AL+epsilon),1-Y))\n"
     ]
    },
    {
     "name": "stdout",
     "output_type": "stream",
     "text": [
      "Accuracy: 14.29%\n"
     ]
    }
   ],
   "source": [
    "activations = [\"tanh\",\"tanh\",\"sigmoid\"]\n",
    "layer_dims = [X_train.shape[0],20,10,y_train.shape[0]]\n",
    "parameters = lnn.L_layer_model(X_train, y_train, layer_dims, activation_functions, learning_rate = alpha, num_iterations = 3000)\n",
    "predictions = lnn.predict(parameters, X_test, activations)\n",
    "match_bool = np.equal(predictions,y_test_single).astype('int')\n",
    "accuracy = float(np.count_nonzero(match_bool == 1)) / float(y_test_single.size) * 100\n",
    "print(f'Accuracy: {round(accuracy,2)}%')"
   ]
  },
  {
   "cell_type": "code",
   "execution_count": 21,
   "metadata": {
    "colab": {
     "base_uri": "https://localhost:8080/",
     "height": 34
    },
    "colab_type": "code",
    "id": "hBF07oao2lIk",
    "outputId": "6a7907dc-66a1-42af-82e3-43d19837469b"
   },
   "outputs": [
    {
     "name": "stderr",
     "output_type": "stream",
     "text": [
      "/home/chrx/Documents/DUCS/multi_layer_nn/L_layer_nn.py:251: RuntimeWarning: divide by zero encountered in true_divide\n",
      "  dAL = - (np.divide(Y, AL) - np.divide(1 - Y, 1 - AL))\n",
      "/home/chrx/Documents/DUCS/multi_layer_nn/L_layer_nn.py:251: RuntimeWarning: invalid value encountered in true_divide\n",
      "  dAL = - (np.divide(Y, AL) - np.divide(1 - Y, 1 - AL))\n",
      "/home/chrx/Documents/DUCS/multi_layer_nn/L_layer_nn.py:153: RuntimeWarning: invalid value encountered in log\n",
      "  cost =  (-1./m) * np.sum(np.multiply(np.log(AL+epsilon),Y) + np.multiply(np.log(1-AL+epsilon),1-Y))\n"
     ]
    },
    {
     "name": "stdout",
     "output_type": "stream",
     "text": [
      "Accuracy: 14.29%\n"
     ]
    },
    {
     "name": "stderr",
     "output_type": "stream",
     "text": [
      "/home/chrx/Documents/DUCS/multi_layer_nn/activation_utils.py:53: RuntimeWarning: invalid value encountered in true_divide\n",
      "  A = (np.exp(Z) - np.exp(-Z)) / (np.exp(Z) + np.exp(-Z))\n"
     ]
    }
   ],
   "source": [
    "activations = [\"relu\",\"tanh\",\"sigmoid\"]\n",
    "parameters = lnn.L_layer_model(X_train, y_train, layer_dims, activation_functions, learning_rate = alpha, num_iterations = 3000)\n",
    "predictions = lnn.predict(parameters, X_test, activations)\n",
    "match_bool = np.equal(predictions,y_test_single).astype('int')\n",
    "accuracy = float(np.count_nonzero(match_bool == 1)) / float(y_test_single.size) * 100\n",
    "print(f'Accuracy: {round(accuracy,2)}%')"
   ]
  },
  {
   "cell_type": "code",
   "execution_count": 22,
   "metadata": {
    "colab": {},
    "colab_type": "code",
    "id": "89Tje0u747-p"
   },
   "outputs": [
    {
     "name": "stderr",
     "output_type": "stream",
     "text": [
      "/home/chrx/Documents/DUCS/multi_layer_nn/L_layer_nn.py:251: RuntimeWarning: divide by zero encountered in true_divide\n",
      "  dAL = - (np.divide(Y, AL) - np.divide(1 - Y, 1 - AL))\n",
      "/home/chrx/Documents/DUCS/multi_layer_nn/L_layer_nn.py:251: RuntimeWarning: invalid value encountered in true_divide\n",
      "  dAL = - (np.divide(Y, AL) - np.divide(1 - Y, 1 - AL))\n",
      "/home/chrx/Documents/DUCS/multi_layer_nn/L_layer_nn.py:153: RuntimeWarning: invalid value encountered in log\n",
      "  cost =  (-1./m) * np.sum(np.multiply(np.log(AL+epsilon),Y) + np.multiply(np.log(1-AL+epsilon),1-Y))\n"
     ]
    },
    {
     "name": "stdout",
     "output_type": "stream",
     "text": [
      "Accuracy: 14.29%\n"
     ]
    }
   ],
   "source": [
    "activations = [\"tanh\",\"relu\",\"sigmoid\"]\n",
    "parameters = lnn.L_layer_model(X_train, y_train, layer_dims, activation_functions, learning_rate = alpha, num_iterations = 3000)\n",
    "predictions = lnn.predict(parameters, X_test, activations)\n",
    "match_bool = np.equal(predictions,y_test_single).astype('int')\n",
    "accuracy = float(np.count_nonzero(match_bool == 1)) / float(y_test_single.size) * 100\n",
    "print(f'Accuracy: {round(accuracy,2)}%')"
   ]
  },
  {
   "cell_type": "code",
   "execution_count": null,
   "metadata": {},
   "outputs": [],
   "source": []
  }
 ],
 "metadata": {
  "colab": {
   "collapsed_sections": [],
   "name": "Copy of multi_layer_nn.ipynb",
   "provenance": [],
   "version": "0.3.2"
  },
  "kernelspec": {
   "display_name": "Python 3",
   "language": "python",
   "name": "python3"
  },
  "language_info": {
   "codemirror_mode": {
    "name": "ipython",
    "version": 3
   },
   "file_extension": ".py",
   "mimetype": "text/x-python",
   "name": "python",
   "nbconvert_exporter": "python",
   "pygments_lexer": "ipython3",
   "version": "3.6.5"
  }
 },
 "nbformat": 4,
 "nbformat_minor": 2
}
